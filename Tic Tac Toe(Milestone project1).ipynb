{
 "cells": [
  {
   "cell_type": "code",
   "execution_count": 2,
   "id": "ce67ed9c-7de9-4f4b-bd06-8115b30f1ffd",
   "metadata": {},
   "outputs": [],
   "source": [
    "ro1 = [' ', ' ', ' ']\n",
    "ro2 = [' ', ' ', ' '] \n",
    "ro3 = [' ', ' ', ' ']\n",
    "\n",
    "inps = []\n",
    "\n",
    "empty = False"
   ]
  },
  {
   "cell_type": "code",
   "execution_count": 3,
   "id": "850c739e-1288-49e2-a6a2-4e8786426289",
   "metadata": {},
   "outputs": [],
   "source": [
    "def display_board(r1, r2, r3):\n",
    "    print(f' {r1[0]} | {r1[1]} | {r1[2]} ')\n",
    "    print('-----------')\n",
    "    print(f' {r2[0]} | {r2[1]} | {r2[2]} ')\n",
    "    print('-----------')\n",
    "    print(f' {r3[0]} | {r3[1]} | {r3[2]} ')\n",
    "    print()"
   ]
  },
  {
   "cell_type": "code",
   "execution_count": 4,
   "id": "50a8bab5-eefd-4034-af22-1289446ecefd",
   "metadata": {},
   "outputs": [],
   "source": [
    "def check_winner(r1, r2, r3):\n",
    "    #Row check\n",
    "    if (r1[0] == 'X' and r1[1] == 'X' and r1[2] == 'X') or (r1[0] == 'O' and r1[1] == 'O' and r1[2] == 'O'):\n",
    "        return True\n",
    "    if (r2[0] == 'X' and r2[1] == 'X' and r2[2] == 'X') or (r2[0] == 'O' and r2[1] == 'O' and r2[2] == 'O'):\n",
    "        return True\n",
    "    if (r3[0] == 'X' and r3[1] == 'X' and r3[2] == 'X') or (r3[0] == 'O' and r3[1] == 'O' and r3[2] == 'O'):\n",
    "        return True\n",
    "    \n",
    "    #Column check\n",
    "    if (r1[0] == 'X' and r2[0] == 'X' and r3[0] == 'X') or (r1[0] == 'O' and r2[0] == 'O' and r3[0] == 'O'):\n",
    "        return True\n",
    "    if (r1[1] == 'X' and r2[1] == 'X' and r3[1] == 'X') or (r1[1] == 'O' and r2[1] == 'O' and r3[1] == 'O'):\n",
    "        return True\n",
    "    if (r1[2] == 'X' and r2[2] == 'X' and r3[2] == 'X') or (r1[2] == 'O' and r2[2] == 'O' and r3[2] == 'O'):\n",
    "        return True\n",
    "    \n",
    "    #Diagnal check\n",
    "    if (r1[0] == 'X' and r2[1] == 'X' and r3[2] == 'X') or (r1[0] == 'X' and r2[1] == 'X' and r3[2] == 'X'):\n",
    "        return True\n",
    "    if (r1[2] == 'X' and r2[1] == 'X' and r3[0] == 'X') or (r1[2] == 'X' and r2[1] == 'X' and r3[0] == 'X'):\n",
    "        # print('here8')\n",
    "        return True\n",
    "        \n",
    "    return False"
   ]
  },
  {
   "cell_type": "code",
   "execution_count": 5,
   "id": "00f26c35-70a2-4314-98c7-30ab16d3626f",
   "metadata": {},
   "outputs": [],
   "source": [
    "def game_menu():\n",
    "    print('----------------------TIC TAC TOE----------------------')\n",
    "    print('Welcome to the game\\n')\n",
    "\n",
    "    P1 = input('Enter the name of player 1')\n",
    "    P2 = input('Enter the name of player 2')\n",
    "    print()\n",
    "    while P1 == '' or P2 == '' or P1 == P2:\n",
    "        if P1 == '' or P2 == '':\n",
    "            print(\"Names can't be empty\")\n",
    "        else:\n",
    "            print(\"Names of player1 and player2 can't be the same\")\n",
    "        P1 = input('Enter the name of player 1')\n",
    "        P2 = input('Enter the name of player 2')\n",
    "        print()\n",
    "    \n",
    "    P1v = input(f'{P1} Choose b/w X and O')\n",
    "    P2v = 'O'\n",
    "    \n",
    "    while P1v.upper() != 'X' and P1v.upper() != 'O':\n",
    "        P1v = input('Please choose a valid option')\n",
    "        \n",
    "    if P1v.upper() == 'O':\n",
    "        P2v = 'X'\n",
    "        \n",
    "    print(\"\\nHere's the number chart to place your markers in\")\n",
    "    print(' 0 | 1 | 2 ')\n",
    "    print('-----------')\n",
    "    print(' 3 | 4 | 5 ')\n",
    "    print('-----------')\n",
    "    print(' 6 | 7 | 8 ')\n",
    "    print()\n",
    "    \n",
    "    return [(P1, P2), (P1v.upper(), P2v.upper())] if P1v.upper() == 'X' else [(P2, P1), (P2v.upper(), P1v.upper())]"
   ]
  },
  {
   "cell_type": "code",
   "execution_count": 6,
   "id": "26f6d16e-8899-43de-b475-1b72d870693d",
   "metadata": {},
   "outputs": [],
   "source": [
    "def place_value(n, m):\n",
    "    if n in [0, 1, 2]:\n",
    "        ro1[n] = m\n",
    "    elif n in [3, 4, 5]:\n",
    "        ro2[n-3] = m\n",
    "    else:\n",
    "        ro3[n-6] = m\n",
    "\n",
    "    display_board(ro1, ro2, ro3)\n",
    "    return check_winner(ro1, ro2, ro3)"
   ]
  },
  {
   "cell_type": "code",
   "execution_count": 7,
   "id": "565d003a-78d0-493d-b201-d675ec003c1c",
   "metadata": {},
   "outputs": [],
   "source": [
    "def repeat_validate(n):\n",
    "    return int(n) in inps"
   ]
  },
  {
   "cell_type": "code",
   "execution_count": 8,
   "id": "13f6fcc7-8328-4905-9a54-f17846b26b78",
   "metadata": {},
   "outputs": [],
   "source": [
    "def tic_tac_toe():\n",
    "    \n",
    "    i = 0\n",
    "    data = game_menu()\n",
    "    wflag = False\n",
    "    \n",
    "    while not wflag and i < 9:\n",
    "        if i % 2 == 0:\n",
    "            i1 = input(f'{data[0][0]} ({data[1][0]}) your turn: ')\n",
    "            while i1 == '' or not (i1.isdigit() and 0 <= int(i1) < 9) or repeat_validate(i1):\n",
    "                if i1 == '':\n",
    "                    pass\n",
    "                elif not (i1.isdigit() and 0 <= int(i1) < 9):\n",
    "                    pass\n",
    "                elif repeat_validate(i1):\n",
    "                    print('This place is already used')\n",
    "                i1 = input(f'{data[0][0]} ({data[1][0]}) enter a valid input(0-8): ')\n",
    "            print()\n",
    "            inps.append(int(i1))\n",
    "            wflag = place_value(int(i1), data[1][0])\n",
    "        else:\n",
    "            i2 = input(f'{data[0][1]} ({data[1][1]}) your turn: ')\n",
    "            while i2 == '' or not (i2.isdigit() and 0 <= int(i2) < 9) or repeat_validate(i2):\n",
    "                if i2 == '':\n",
    "                    pass\n",
    "                elif not (i2.isdigit() and 0 <= int(i2) < 9):\n",
    "                    pass\n",
    "                elif repeat_validate(i2):\n",
    "                    print('This place is already used')\n",
    "                i2 = input(f'{data[0][1]} ({data[1][1]}) enter a valid input(0-8): ')\n",
    "            print()\n",
    "            inps.append(int(i2))\n",
    "            wflag = place_value(int(i2), data[1][1])\n",
    "\n",
    "        i += 1\n",
    "\n",
    "    if wflag:\n",
    "        if (i-1)%2 == 0:\n",
    "            print(f'Congratulations {data[0][0]} you won')\n",
    "        else:\n",
    "            print(f'Congratulations {data[0][1]} you won')\n",
    "    else:\n",
    "        print(\"Ahh, it's a draw match\")\n",
    "    "
   ]
  },
  {
   "cell_type": "code",
   "execution_count": 9,
   "id": "119ca63e-3700-4930-bd29-03033338d9eb",
   "metadata": {},
   "outputs": [
    {
     "name": "stdout",
     "output_type": "stream",
     "text": [
      "----------------------TIC TAC TOE----------------------\n",
      "Welcome to the game\n",
      "\n"
     ]
    },
    {
     "name": "stdin",
     "output_type": "stream",
     "text": [
      "Enter the name of player 1 \n",
      "Enter the name of player 2 \n"
     ]
    },
    {
     "name": "stdout",
     "output_type": "stream",
     "text": [
      "\n",
      "Names can't be empty\n"
     ]
    },
    {
     "name": "stdin",
     "output_type": "stream",
     "text": [
      "Enter the name of player 1 \n",
      "Enter the name of player 2 cdas\n"
     ]
    },
    {
     "name": "stdout",
     "output_type": "stream",
     "text": [
      "\n",
      "Names can't be empty\n"
     ]
    },
    {
     "name": "stdin",
     "output_type": "stream",
     "text": [
      "Enter the name of player 1 fsdf\n",
      "Enter the name of player 2 \n"
     ]
    },
    {
     "name": "stdout",
     "output_type": "stream",
     "text": [
      "\n",
      "Names can't be empty\n"
     ]
    },
    {
     "name": "stdin",
     "output_type": "stream",
     "text": [
      "Enter the name of player 1 ABC\n",
      "Enter the name of player 2 EFG\n"
     ]
    },
    {
     "name": "stdout",
     "output_type": "stream",
     "text": [
      "\n"
     ]
    },
    {
     "name": "stdin",
     "output_type": "stream",
     "text": [
      "ABC Choose b/w X and O \n",
      "Please choose a valid option e\n",
      "Please choose a valid option b\n",
      "Please choose a valid option 2\n",
      "Please choose a valid option \n",
      "Please choose a valid option #\n",
      "Please choose a valid option o\n"
     ]
    },
    {
     "name": "stdout",
     "output_type": "stream",
     "text": [
      "\n",
      "Here's the number chart to place your markers in\n",
      " 0 | 1 | 2 \n",
      "-----------\n",
      " 3 | 4 | 5 \n",
      "-----------\n",
      " 6 | 7 | 8 \n",
      "\n"
     ]
    },
    {
     "name": "stdin",
     "output_type": "stream",
     "text": [
      "EFG (X) your turn:  0\n"
     ]
    },
    {
     "name": "stdout",
     "output_type": "stream",
     "text": [
      "\n",
      " X |   |   \n",
      "-----------\n",
      "   |   |   \n",
      "-----------\n",
      "   |   |   \n",
      "\n"
     ]
    },
    {
     "name": "stdin",
     "output_type": "stream",
     "text": [
      "ABC (O) your turn:  e\n",
      "ABC (O) enter a valid input(0-8):  #\n",
      "ABC (O) enter a valid input(0-8):  9\n",
      "ABC (O) enter a valid input(0-8):  1\n"
     ]
    },
    {
     "name": "stdout",
     "output_type": "stream",
     "text": [
      "\n",
      " X | O |   \n",
      "-----------\n",
      "   |   |   \n",
      "-----------\n",
      "   |   |   \n",
      "\n"
     ]
    },
    {
     "name": "stdin",
     "output_type": "stream",
     "text": [
      "EFG (X) your turn:  4\n"
     ]
    },
    {
     "name": "stdout",
     "output_type": "stream",
     "text": [
      "\n",
      " X | O |   \n",
      "-----------\n",
      "   | X |   \n",
      "-----------\n",
      "   |   |   \n",
      "\n"
     ]
    },
    {
     "name": "stdin",
     "output_type": "stream",
     "text": [
      "ABC (O) your turn:  2\n"
     ]
    },
    {
     "name": "stdout",
     "output_type": "stream",
     "text": [
      "\n",
      " X | O | O \n",
      "-----------\n",
      "   | X |   \n",
      "-----------\n",
      "   |   |   \n",
      "\n"
     ]
    },
    {
     "name": "stdin",
     "output_type": "stream",
     "text": [
      "EFG (X) your turn:  8\n"
     ]
    },
    {
     "name": "stdout",
     "output_type": "stream",
     "text": [
      "\n",
      " X | O | O \n",
      "-----------\n",
      "   | X |   \n",
      "-----------\n",
      "   |   | X \n",
      "\n",
      "Congratulations EFG you won\n"
     ]
    }
   ],
   "source": [
    "tic_tac_toe()"
   ]
  }
 ],
 "metadata": {
  "kernelspec": {
   "display_name": "Python 3 (ipykernel)",
   "language": "python",
   "name": "python3"
  },
  "language_info": {
   "codemirror_mode": {
    "name": "ipython",
    "version": 3
   },
   "file_extension": ".py",
   "mimetype": "text/x-python",
   "name": "python",
   "nbconvert_exporter": "python",
   "pygments_lexer": "ipython3",
   "version": "3.12.4"
  }
 },
 "nbformat": 4,
 "nbformat_minor": 5
}
